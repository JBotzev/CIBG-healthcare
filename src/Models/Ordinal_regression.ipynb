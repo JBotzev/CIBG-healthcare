{
 "cells": [
  {
   "cell_type": "code",
   "execution_count": 1,
   "id": "b0f946bc",
   "metadata": {},
   "outputs": [],
   "source": [
    "import pandas as pd\n",
    "import numpy as np\n",
    "from sklearn.model_selection import train_test_split\n",
    "from sklearn.ensemble import RandomForestClassifier\n",
    "from sklearn.neighbors import KNeighborsClassifier\n",
    "from sklearn.naive_bayes import GaussianNB\n",
    "from sklearn import preprocessing\n",
    "from sklearn.metrics import accuracy_score"
   ]
  },
  {
   "cell_type": "markdown",
   "id": "7ff9e6cd",
   "metadata": {},
   "source": [
    "1. Data preprocessing: feature selection / data normalization\n",
    "2. Categorize labels\n",
    "3. Training models"
   ]
  },
  {
   "cell_type": "markdown",
   "id": "938e4fb6",
   "metadata": {},
   "source": [
    "#### Import csv data as dataframe"
   ]
  },
  {
   "cell_type": "code",
   "execution_count": 5,
   "id": "e9daa7a6",
   "metadata": {},
   "outputs": [],
   "source": [
    "data = pd.DataFrame(pd.read_csv(\"basicFeatureX.csv\"))"
   ]
  },
  {
   "cell_type": "code",
   "execution_count": 6,
   "id": "7f6879ef",
   "metadata": {
    "scrolled": true
   },
   "outputs": [
    {
     "data": {
      "text/html": [
       "<div>\n",
       "<style scoped>\n",
       "    .dataframe tbody tr th:only-of-type {\n",
       "        vertical-align: middle;\n",
       "    }\n",
       "\n",
       "    .dataframe tbody tr th {\n",
       "        vertical-align: top;\n",
       "    }\n",
       "\n",
       "    .dataframe thead th {\n",
       "        text-align: right;\n",
       "    }\n",
       "</style>\n",
       "<table border=\"1\" class=\"dataframe\">\n",
       "  <thead>\n",
       "    <tr style=\"text-align: right;\">\n",
       "      <th></th>\n",
       "      <th>Unnamed: 0</th>\n",
       "      <th>v_5057</th>\n",
       "      <th>v_5060</th>\n",
       "      <th>v_5072</th>\n",
       "      <th>v_5069</th>\n",
       "      <th>v_5041</th>\n",
       "      <th>v_5070</th>\n",
       "      <th>v_5058</th>\n",
       "      <th>v_5043</th>\n",
       "      <th>v_5078</th>\n",
       "      <th>...</th>\n",
       "      <th>['AGBP: Fysiotherapeuten']</th>\n",
       "      <th>v_959 NULL</th>\n",
       "      <th>['BIGP: Fysiotherapeuten']</th>\n",
       "      <th>['KWAL_P: Fysiotherapie']</th>\n",
       "      <th>v_5192 NULL</th>\n",
       "      <th>v_993 NULL</th>\n",
       "      <th>v_5193 NULL</th>\n",
       "      <th>v_994 NULL</th>\n",
       "      <th>v_5195 NULL</th>\n",
       "      <th>['AGBP: Verpleegkundigen']</th>\n",
       "    </tr>\n",
       "  </thead>\n",
       "  <tbody>\n",
       "    <tr>\n",
       "      <th>0</th>\n",
       "      <td>0</td>\n",
       "      <td>4.0</td>\n",
       "      <td>4.0</td>\n",
       "      <td>4.0</td>\n",
       "      <td>4.0</td>\n",
       "      <td>0.0</td>\n",
       "      <td>1.50</td>\n",
       "      <td>1.50</td>\n",
       "      <td>0.0</td>\n",
       "      <td>0.0</td>\n",
       "      <td>...</td>\n",
       "      <td>0.0</td>\n",
       "      <td>1.0</td>\n",
       "      <td>0.0</td>\n",
       "      <td>0.0</td>\n",
       "      <td>1.0</td>\n",
       "      <td>1.0</td>\n",
       "      <td>1.0</td>\n",
       "      <td>1.0</td>\n",
       "      <td>1.0</td>\n",
       "      <td>0.0</td>\n",
       "    </tr>\n",
       "    <tr>\n",
       "      <th>1</th>\n",
       "      <td>1</td>\n",
       "      <td>8067.0</td>\n",
       "      <td>8446.0</td>\n",
       "      <td>9580.5</td>\n",
       "      <td>10055.0</td>\n",
       "      <td>1987.0</td>\n",
       "      <td>6941.08</td>\n",
       "      <td>5830.56</td>\n",
       "      <td>2745.0</td>\n",
       "      <td>100.0</td>\n",
       "      <td>...</td>\n",
       "      <td>0.0</td>\n",
       "      <td>0.0</td>\n",
       "      <td>0.0</td>\n",
       "      <td>0.0</td>\n",
       "      <td>0.0</td>\n",
       "      <td>0.0</td>\n",
       "      <td>0.0</td>\n",
       "      <td>0.0</td>\n",
       "      <td>0.0</td>\n",
       "      <td>0.0</td>\n",
       "    </tr>\n",
       "    <tr>\n",
       "      <th>2</th>\n",
       "      <td>2</td>\n",
       "      <td>437.0</td>\n",
       "      <td>430.0</td>\n",
       "      <td>430.5</td>\n",
       "      <td>438.0</td>\n",
       "      <td>126.0</td>\n",
       "      <td>162.67</td>\n",
       "      <td>162.00</td>\n",
       "      <td>112.0</td>\n",
       "      <td>100.0</td>\n",
       "      <td>...</td>\n",
       "      <td>0.0</td>\n",
       "      <td>0.0</td>\n",
       "      <td>0.0</td>\n",
       "      <td>0.0</td>\n",
       "      <td>0.0</td>\n",
       "      <td>0.0</td>\n",
       "      <td>0.0</td>\n",
       "      <td>0.0</td>\n",
       "      <td>0.0</td>\n",
       "      <td>0.0</td>\n",
       "    </tr>\n",
       "    <tr>\n",
       "      <th>3</th>\n",
       "      <td>3</td>\n",
       "      <td>28.0</td>\n",
       "      <td>28.0</td>\n",
       "      <td>28.0</td>\n",
       "      <td>28.0</td>\n",
       "      <td>8.0</td>\n",
       "      <td>13.08</td>\n",
       "      <td>13.08</td>\n",
       "      <td>8.0</td>\n",
       "      <td>100.0</td>\n",
       "      <td>...</td>\n",
       "      <td>0.0</td>\n",
       "      <td>0.0</td>\n",
       "      <td>0.0</td>\n",
       "      <td>0.0</td>\n",
       "      <td>0.0</td>\n",
       "      <td>0.0</td>\n",
       "      <td>0.0</td>\n",
       "      <td>0.0</td>\n",
       "      <td>0.0</td>\n",
       "      <td>0.0</td>\n",
       "    </tr>\n",
       "    <tr>\n",
       "      <th>4</th>\n",
       "      <td>4</td>\n",
       "      <td>47.0</td>\n",
       "      <td>46.0</td>\n",
       "      <td>46.0</td>\n",
       "      <td>47.0</td>\n",
       "      <td>5.0</td>\n",
       "      <td>40.11</td>\n",
       "      <td>40.11</td>\n",
       "      <td>3.0</td>\n",
       "      <td>0.0</td>\n",
       "      <td>...</td>\n",
       "      <td>0.0</td>\n",
       "      <td>1.0</td>\n",
       "      <td>0.0</td>\n",
       "      <td>0.0</td>\n",
       "      <td>1.0</td>\n",
       "      <td>1.0</td>\n",
       "      <td>1.0</td>\n",
       "      <td>1.0</td>\n",
       "      <td>1.0</td>\n",
       "      <td>0.0</td>\n",
       "    </tr>\n",
       "  </tbody>\n",
       "</table>\n",
       "<p>5 rows × 50 columns</p>\n",
       "</div>"
      ],
      "text/plain": [
       "   Unnamed: 0  v_5057  v_5060  v_5072   v_5069  v_5041   v_5070   v_5058  \\\n",
       "0           0     4.0     4.0     4.0      4.0     0.0     1.50     1.50   \n",
       "1           1  8067.0  8446.0  9580.5  10055.0  1987.0  6941.08  5830.56   \n",
       "2           2   437.0   430.0   430.5    438.0   126.0   162.67   162.00   \n",
       "3           3    28.0    28.0    28.0     28.0     8.0    13.08    13.08   \n",
       "4           4    47.0    46.0    46.0     47.0     5.0    40.11    40.11   \n",
       "\n",
       "   v_5043  v_5078  ...  ['AGBP: Fysiotherapeuten']  v_959 NULL  \\\n",
       "0     0.0     0.0  ...                         0.0         1.0   \n",
       "1  2745.0   100.0  ...                         0.0         0.0   \n",
       "2   112.0   100.0  ...                         0.0         0.0   \n",
       "3     8.0   100.0  ...                         0.0         0.0   \n",
       "4     3.0     0.0  ...                         0.0         1.0   \n",
       "\n",
       "   ['BIGP: Fysiotherapeuten']  ['KWAL_P: Fysiotherapie']  v_5192 NULL  \\\n",
       "0                         0.0                        0.0          1.0   \n",
       "1                         0.0                        0.0          0.0   \n",
       "2                         0.0                        0.0          0.0   \n",
       "3                         0.0                        0.0          0.0   \n",
       "4                         0.0                        0.0          1.0   \n",
       "\n",
       "   v_993 NULL  v_5193 NULL  v_994 NULL  v_5195 NULL  \\\n",
       "0         1.0          1.0         1.0          1.0   \n",
       "1         0.0          0.0         0.0          0.0   \n",
       "2         0.0          0.0         0.0          0.0   \n",
       "3         0.0          0.0         0.0          0.0   \n",
       "4         1.0          1.0         1.0          1.0   \n",
       "\n",
       "   ['AGBP: Verpleegkundigen']  \n",
       "0                         0.0  \n",
       "1                         0.0  \n",
       "2                         0.0  \n",
       "3                         0.0  \n",
       "4                         0.0  \n",
       "\n",
       "[5 rows x 50 columns]"
      ]
     },
     "execution_count": 6,
     "metadata": {},
     "output_type": "execute_result"
    }
   ],
   "source": [
    "data.head()"
   ]
  },
  {
   "cell_type": "markdown",
   "id": "1c1f0713",
   "metadata": {},
   "source": [
    "#### Check the features of this dataset"
   ]
  },
  {
   "cell_type": "code",
   "execution_count": 7,
   "id": "959be2c0",
   "metadata": {},
   "outputs": [
    {
     "data": {
      "text/plain": [
       "Index(['Unnamed: 0', 'v_5057', 'v_5060', 'v_5072', 'v_5069', 'v_5041',\n",
       "       'v_5070', 'v_5058', 'v_5043', 'v_5078', 'v_5076', 'v_5055', 'v_5053',\n",
       "       'v_958', 'v_5042', 'v_5044', 'v_959', 'v_5056', 'v_4395', 'v_4385',\n",
       "       'v_4386', 'v_4396', 'v_5054',\n",
       "       '['AGBin: Gecombineerde Verpleeginrichtingen']', 'v_993', 'v_4397',\n",
       "       'v_4398', '['AGBin: Koepels en Beheerstichtingen WLZ']', 'v_5135',\n",
       "       'v_5085', '['SBI: 87']', 'v_5081', '['AGBin: Ziekenhuizen']', 'v_994',\n",
       "       'v_5076 NULL', 'v_5078 NULL', 'v_958 NULL', 'v_5077 NULL',\n",
       "       'v_5196 NULL', 'v_5194 NULL', '['AGBP: Fysiotherapeuten']',\n",
       "       'v_959 NULL', '['BIGP: Fysiotherapeuten']', '['KWAL_P: Fysiotherapie']',\n",
       "       'v_5192 NULL', 'v_993 NULL', 'v_5193 NULL', 'v_994 NULL', 'v_5195 NULL',\n",
       "       '['AGBP: Verpleegkundigen']'],\n",
       "      dtype='object')"
      ]
     },
     "execution_count": 7,
     "metadata": {},
     "output_type": "execute_result"
    }
   ],
   "source": [
    "data.columns"
   ]
  },
  {
   "cell_type": "markdown",
   "id": "55adb67e",
   "metadata": {},
   "source": [
    "#### Check if there are any null values"
   ]
  },
  {
   "cell_type": "code",
   "execution_count": 8,
   "id": "e73ad356",
   "metadata": {
    "scrolled": false
   },
   "outputs": [
    {
     "data": {
      "text/plain": [
       "Unnamed: 0                                       0\n",
       "v_5057                                           0\n",
       "v_5060                                           0\n",
       "v_5072                                           0\n",
       "v_5069                                           0\n",
       "v_5041                                           0\n",
       "v_5070                                           0\n",
       "v_5058                                           0\n",
       "v_5043                                           0\n",
       "v_5078                                           0\n",
       "v_5076                                           0\n",
       "v_5055                                           0\n",
       "v_5053                                           0\n",
       "v_958                                            0\n",
       "v_5042                                           0\n",
       "v_5044                                           0\n",
       "v_959                                            0\n",
       "v_5056                                           0\n",
       "v_4395                                           0\n",
       "v_4385                                           0\n",
       "v_4386                                           0\n",
       "v_4396                                           0\n",
       "v_5054                                           0\n",
       "['AGBin: Gecombineerde Verpleeginrichtingen']    0\n",
       "v_993                                            0\n",
       "v_4397                                           0\n",
       "v_4398                                           0\n",
       "['AGBin: Koepels en Beheerstichtingen WLZ']      0\n",
       "v_5135                                           0\n",
       "v_5085                                           0\n",
       "['SBI: 87']                                      0\n",
       "v_5081                                           0\n",
       "['AGBin: Ziekenhuizen']                          0\n",
       "v_994                                            0\n",
       "v_5076 NULL                                      0\n",
       "v_5078 NULL                                      0\n",
       "v_958 NULL                                       0\n",
       "v_5077 NULL                                      0\n",
       "v_5196 NULL                                      0\n",
       "v_5194 NULL                                      0\n",
       "['AGBP: Fysiotherapeuten']                       0\n",
       "v_959 NULL                                       0\n",
       "['BIGP: Fysiotherapeuten']                       0\n",
       "['KWAL_P: Fysiotherapie']                        0\n",
       "v_5192 NULL                                      0\n",
       "v_993 NULL                                       0\n",
       "v_5193 NULL                                      0\n",
       "v_994 NULL                                       0\n",
       "v_5195 NULL                                      0\n",
       "['AGBP: Verpleegkundigen']                       0\n",
       "dtype: int64"
      ]
     },
     "execution_count": 8,
     "metadata": {},
     "output_type": "execute_result"
    }
   ],
   "source": [
    "data.isna().sum()"
   ]
  },
  {
   "cell_type": "markdown",
   "id": "d9c1a97d",
   "metadata": {},
   "source": [
    "We can see that there is no nan values in the data, therefore, no further processing in this regard is needed"
   ]
  },
  {
   "cell_type": "markdown",
   "id": "6981e71e",
   "metadata": {},
   "source": [
    "#### Remove redundant features that are not necessary for this task"
   ]
  },
  {
   "cell_type": "code",
   "execution_count": 9,
   "id": "ca5e1f74",
   "metadata": {},
   "outputs": [],
   "source": [
    "data = data.drop([\"Unnamed: 0\",\n",
    "                  \"['AGBin: Gecombineerde Verpleeginrichtingen']\",\n",
    "                  \"['AGBin: Koepels en Beheerstichtingen WLZ']\",\n",
    "                  \"['SBI: 87']\",\n",
    "                  \"['AGBin: Ziekenhuizen']\",\n",
    "                  'v_5076 NULL', \n",
    "                  'v_5078 NULL', \n",
    "                  'v_958 NULL', \n",
    "                  'v_5077 NULL',\n",
    "                  'v_5196 NULL', \n",
    "                  'v_5194 NULL', \n",
    "                  \"['AGBP: Fysiotherapeuten']\",\n",
    "                  'v_959 NULL', \n",
    "                  \"['BIGP: Fysiotherapeuten']\", \n",
    "                  \"['KWAL_P: Fysiotherapie']\",\n",
    "                  'v_5192 NULL', \n",
    "                  'v_993 NULL', \n",
    "                  'v_5193 NULL', \n",
    "                  'v_994 NULL', \n",
    "                  'v_5195 NULL',\n",
    "                  \"['AGBP: Verpleegkundigen']\"], axis=1)"
   ]
  },
  {
   "cell_type": "markdown",
   "id": "5ef60ce6",
   "metadata": {},
   "source": [
    "#### Split data into training set and label set"
   ]
  },
  {
   "cell_type": "code",
   "execution_count": 10,
   "id": "0a604f75",
   "metadata": {},
   "outputs": [],
   "source": [
    "y = data[\"v_5069\"]\n",
    "X = data.drop(\"v_5069\",axis=1)"
   ]
  },
  {
   "cell_type": "code",
   "execution_count": 11,
   "id": "e9846d02",
   "metadata": {
    "scrolled": true
   },
   "outputs": [
    {
     "data": {
      "text/html": [
       "<div>\n",
       "<style scoped>\n",
       "    .dataframe tbody tr th:only-of-type {\n",
       "        vertical-align: middle;\n",
       "    }\n",
       "\n",
       "    .dataframe tbody tr th {\n",
       "        vertical-align: top;\n",
       "    }\n",
       "\n",
       "    .dataframe thead th {\n",
       "        text-align: right;\n",
       "    }\n",
       "</style>\n",
       "<table border=\"1\" class=\"dataframe\">\n",
       "  <thead>\n",
       "    <tr style=\"text-align: right;\">\n",
       "      <th></th>\n",
       "      <th>v_5057</th>\n",
       "      <th>v_5060</th>\n",
       "      <th>v_5072</th>\n",
       "      <th>v_5041</th>\n",
       "      <th>v_5070</th>\n",
       "      <th>v_5058</th>\n",
       "      <th>v_5043</th>\n",
       "      <th>v_5078</th>\n",
       "      <th>v_5076</th>\n",
       "      <th>v_5055</th>\n",
       "      <th>...</th>\n",
       "      <th>v_4386</th>\n",
       "      <th>v_4396</th>\n",
       "      <th>v_5054</th>\n",
       "      <th>v_993</th>\n",
       "      <th>v_4397</th>\n",
       "      <th>v_4398</th>\n",
       "      <th>v_5135</th>\n",
       "      <th>v_5085</th>\n",
       "      <th>v_5081</th>\n",
       "      <th>v_994</th>\n",
       "    </tr>\n",
       "  </thead>\n",
       "  <tbody>\n",
       "    <tr>\n",
       "      <th>0</th>\n",
       "      <td>4.0</td>\n",
       "      <td>4.0</td>\n",
       "      <td>4.0</td>\n",
       "      <td>0.0</td>\n",
       "      <td>1.50</td>\n",
       "      <td>1.50</td>\n",
       "      <td>0.0</td>\n",
       "      <td>0.0</td>\n",
       "      <td>0.0</td>\n",
       "      <td>0.0</td>\n",
       "      <td>...</td>\n",
       "      <td>0.0</td>\n",
       "      <td>0.0</td>\n",
       "      <td>0.00</td>\n",
       "      <td>0.0</td>\n",
       "      <td>0.0</td>\n",
       "      <td>0.0</td>\n",
       "      <td>0.0</td>\n",
       "      <td>100.0</td>\n",
       "      <td>0.00</td>\n",
       "      <td>0.0</td>\n",
       "    </tr>\n",
       "    <tr>\n",
       "      <th>1</th>\n",
       "      <td>8067.0</td>\n",
       "      <td>8446.0</td>\n",
       "      <td>9580.5</td>\n",
       "      <td>1987.0</td>\n",
       "      <td>6941.08</td>\n",
       "      <td>5830.56</td>\n",
       "      <td>2745.0</td>\n",
       "      <td>100.0</td>\n",
       "      <td>85.5</td>\n",
       "      <td>4227.0</td>\n",
       "      <td>...</td>\n",
       "      <td>226200000.0</td>\n",
       "      <td>295265000.0</td>\n",
       "      <td>2995.55</td>\n",
       "      <td>93262000.0</td>\n",
       "      <td>8093000.0</td>\n",
       "      <td>8831000.0</td>\n",
       "      <td>77.0</td>\n",
       "      <td>0.0</td>\n",
       "      <td>19.84</td>\n",
       "      <td>58885000.0</td>\n",
       "    </tr>\n",
       "    <tr>\n",
       "      <th>2</th>\n",
       "      <td>437.0</td>\n",
       "      <td>430.0</td>\n",
       "      <td>430.5</td>\n",
       "      <td>126.0</td>\n",
       "      <td>162.67</td>\n",
       "      <td>162.00</td>\n",
       "      <td>112.0</td>\n",
       "      <td>100.0</td>\n",
       "      <td>82.0</td>\n",
       "      <td>112.0</td>\n",
       "      <td>...</td>\n",
       "      <td>6460035.0</td>\n",
       "      <td>8456535.0</td>\n",
       "      <td>29.67</td>\n",
       "      <td>1146546.0</td>\n",
       "      <td>160788.0</td>\n",
       "      <td>182700.0</td>\n",
       "      <td>2.0</td>\n",
       "      <td>10.0</td>\n",
       "      <td>43.00</td>\n",
       "      <td>757566.0</td>\n",
       "    </tr>\n",
       "    <tr>\n",
       "      <th>3</th>\n",
       "      <td>28.0</td>\n",
       "      <td>28.0</td>\n",
       "      <td>28.0</td>\n",
       "      <td>8.0</td>\n",
       "      <td>13.08</td>\n",
       "      <td>13.08</td>\n",
       "      <td>8.0</td>\n",
       "      <td>100.0</td>\n",
       "      <td>90.0</td>\n",
       "      <td>8.0</td>\n",
       "      <td>...</td>\n",
       "      <td>526588.0</td>\n",
       "      <td>740820.0</td>\n",
       "      <td>3.11</td>\n",
       "      <td>73841.0</td>\n",
       "      <td>259287.0</td>\n",
       "      <td>153338.0</td>\n",
       "      <td>3.0</td>\n",
       "      <td>10.0</td>\n",
       "      <td>15.00</td>\n",
       "      <td>265314.0</td>\n",
       "    </tr>\n",
       "    <tr>\n",
       "      <th>4</th>\n",
       "      <td>47.0</td>\n",
       "      <td>46.0</td>\n",
       "      <td>46.0</td>\n",
       "      <td>5.0</td>\n",
       "      <td>40.11</td>\n",
       "      <td>40.11</td>\n",
       "      <td>3.0</td>\n",
       "      <td>0.0</td>\n",
       "      <td>0.0</td>\n",
       "      <td>3.0</td>\n",
       "      <td>...</td>\n",
       "      <td>0.0</td>\n",
       "      <td>0.0</td>\n",
       "      <td>4.55</td>\n",
       "      <td>0.0</td>\n",
       "      <td>0.0</td>\n",
       "      <td>0.0</td>\n",
       "      <td>0.0</td>\n",
       "      <td>99.9</td>\n",
       "      <td>0.00</td>\n",
       "      <td>0.0</td>\n",
       "    </tr>\n",
       "  </tbody>\n",
       "</table>\n",
       "<p>5 rows × 28 columns</p>\n",
       "</div>"
      ],
      "text/plain": [
       "   v_5057  v_5060  v_5072  v_5041   v_5070   v_5058  v_5043  v_5078  v_5076  \\\n",
       "0     4.0     4.0     4.0     0.0     1.50     1.50     0.0     0.0     0.0   \n",
       "1  8067.0  8446.0  9580.5  1987.0  6941.08  5830.56  2745.0   100.0    85.5   \n",
       "2   437.0   430.0   430.5   126.0   162.67   162.00   112.0   100.0    82.0   \n",
       "3    28.0    28.0    28.0     8.0    13.08    13.08     8.0   100.0    90.0   \n",
       "4    47.0    46.0    46.0     5.0    40.11    40.11     3.0     0.0     0.0   \n",
       "\n",
       "   v_5055  ...       v_4386       v_4396   v_5054       v_993     v_4397  \\\n",
       "0     0.0  ...          0.0          0.0     0.00         0.0        0.0   \n",
       "1  4227.0  ...  226200000.0  295265000.0  2995.55  93262000.0  8093000.0   \n",
       "2   112.0  ...    6460035.0    8456535.0    29.67   1146546.0   160788.0   \n",
       "3     8.0  ...     526588.0     740820.0     3.11     73841.0   259287.0   \n",
       "4     3.0  ...          0.0          0.0     4.55         0.0        0.0   \n",
       "\n",
       "      v_4398  v_5135  v_5085  v_5081       v_994  \n",
       "0        0.0     0.0   100.0    0.00         0.0  \n",
       "1  8831000.0    77.0     0.0   19.84  58885000.0  \n",
       "2   182700.0     2.0    10.0   43.00    757566.0  \n",
       "3   153338.0     3.0    10.0   15.00    265314.0  \n",
       "4        0.0     0.0    99.9    0.00         0.0  \n",
       "\n",
       "[5 rows x 28 columns]"
      ]
     },
     "execution_count": 11,
     "metadata": {},
     "output_type": "execute_result"
    }
   ],
   "source": [
    "X.head()"
   ]
  },
  {
   "cell_type": "markdown",
   "id": "e13c5695",
   "metadata": {},
   "source": [
    "#### Get the max and min value of num of employees in order to decide the categories for output"
   ]
  },
  {
   "cell_type": "code",
   "execution_count": 12,
   "id": "e077ad4f",
   "metadata": {},
   "outputs": [
    {
     "data": {
      "text/plain": [
       "15958.0"
      ]
     },
     "execution_count": 12,
     "metadata": {},
     "output_type": "execute_result"
    }
   ],
   "source": [
    "y.max()"
   ]
  },
  {
   "cell_type": "code",
   "execution_count": 13,
   "id": "84c36c6d",
   "metadata": {},
   "outputs": [
    {
     "data": {
      "text/plain": [
       "0.0"
      ]
     },
     "execution_count": 13,
     "metadata": {},
     "output_type": "execute_result"
    }
   ],
   "source": [
    "y.min()"
   ]
  },
  {
   "cell_type": "markdown",
   "id": "ce791552",
   "metadata": {},
   "source": [
    "#### Categorize labels: 1-10 / 10-100 / 100-1000 / 1000-10000 / 10000-20000. In this case, since maximum number of employees is 15958, we set the cap to 20000.\n"
   ]
  },
  {
   "cell_type": "code",
   "execution_count": 14,
   "id": "a8abfbcd",
   "metadata": {},
   "outputs": [],
   "source": [
    "bins = [0. ,10. ,100. ,1000. ,10000. ,20000.]\n",
    "groups = [1 ,2 ,3 ,4 ,5]\n",
    "catgory_label = pd.cut(y, bins, labels=groups, include_lowest=True)"
   ]
  },
  {
   "cell_type": "code",
   "execution_count": 15,
   "id": "dea4af45",
   "metadata": {
    "scrolled": false
   },
   "outputs": [
    {
     "data": {
      "text/plain": [
       "1    1103\n",
       "2     660\n",
       "3     354\n",
       "4     211\n",
       "5       6\n",
       "Name: v_5069, dtype: int64"
      ]
     },
     "execution_count": 15,
     "metadata": {},
     "output_type": "execute_result"
    }
   ],
   "source": [
    "catgory_label.value_counts()"
   ]
  },
  {
   "cell_type": "markdown",
   "id": "78481f64",
   "metadata": {},
   "source": [
    "From the frequencies, we can see that only 5 companies have over 10000 employees, thus it is reasonable to make only make one big interval for numbers above 10000."
   ]
  },
  {
   "cell_type": "markdown",
   "id": "c46e9878",
   "metadata": {},
   "source": [
    "#### Normalize features"
   ]
  },
  {
   "cell_type": "code",
   "execution_count": 16,
   "id": "175733ba",
   "metadata": {},
   "outputs": [],
   "source": [
    "temp = X.values\n",
    "min_max_scaler = preprocessing.MinMaxScaler()\n",
    "x_scaled = min_max_scaler.fit_transform(temp)\n",
    "X = pd.DataFrame(x_scaled)"
   ]
  },
  {
   "cell_type": "markdown",
   "id": "d619e9f6",
   "metadata": {},
   "source": [
    "#### Split data into train and test set"
   ]
  },
  {
   "cell_type": "code",
   "execution_count": 17,
   "id": "eb74c68b",
   "metadata": {},
   "outputs": [],
   "source": [
    "X_train, X_test, y_train, y_test = train_test_split(X,catgory_label, test_size=0.2)"
   ]
  },
  {
   "cell_type": "markdown",
   "id": "8dbaeae7",
   "metadata": {},
   "source": [
    "#### Build a ordinal regression model using KNN Algorithm"
   ]
  },
  {
   "cell_type": "code",
   "execution_count": 18,
   "id": "3e2bf68e",
   "metadata": {},
   "outputs": [],
   "source": [
    "clf_knn = KNeighborsClassifier(n_neighbors=3)"
   ]
  },
  {
   "cell_type": "code",
   "execution_count": 19,
   "id": "00964395",
   "metadata": {},
   "outputs": [
    {
     "data": {
      "text/plain": [
       "KNeighborsClassifier(n_neighbors=3)"
      ]
     },
     "execution_count": 19,
     "metadata": {},
     "output_type": "execute_result"
    }
   ],
   "source": [
    "clf_knn.fit(X_train, y_train)"
   ]
  },
  {
   "cell_type": "code",
   "execution_count": 20,
   "id": "8e969ffe",
   "metadata": {},
   "outputs": [],
   "source": [
    "y_pred = clf_knn.predict(X_test)"
   ]
  },
  {
   "cell_type": "code",
   "execution_count": 21,
   "id": "3ecf2719",
   "metadata": {
    "scrolled": true
   },
   "outputs": [
    {
     "data": {
      "text/plain": [
       "0.7944325481798715"
      ]
     },
     "execution_count": 21,
     "metadata": {},
     "output_type": "execute_result"
    }
   ],
   "source": [
    "accuracy_score(y_test, y_pred)"
   ]
  },
  {
   "cell_type": "markdown",
   "id": "545332ed",
   "metadata": {},
   "source": [
    "#### Build a ordinal regression model using Naive Bayes"
   ]
  },
  {
   "cell_type": "code",
   "execution_count": 24,
   "id": "f07839b6",
   "metadata": {},
   "outputs": [],
   "source": [
    "clf_gnb = GaussianNB()"
   ]
  },
  {
   "cell_type": "code",
   "execution_count": 25,
   "id": "d12b6362",
   "metadata": {},
   "outputs": [
    {
     "data": {
      "text/plain": [
       "GaussianNB()"
      ]
     },
     "execution_count": 25,
     "metadata": {},
     "output_type": "execute_result"
    }
   ],
   "source": [
    "clf_gnb.fit(X_train, y_train)"
   ]
  },
  {
   "cell_type": "code",
   "execution_count": 26,
   "id": "6acc2f35",
   "metadata": {},
   "outputs": [],
   "source": [
    "y_pred = clf_gnb.predict(X_test)"
   ]
  },
  {
   "cell_type": "code",
   "execution_count": 27,
   "id": "4d92cd5f",
   "metadata": {},
   "outputs": [
    {
     "data": {
      "text/plain": [
       "0.9014989293361885"
      ]
     },
     "execution_count": 27,
     "metadata": {},
     "output_type": "execute_result"
    }
   ],
   "source": [
    "accuracy_score(y_test, y_pred)"
   ]
  },
  {
   "cell_type": "markdown",
   "id": "5fef466c",
   "metadata": {},
   "source": [
    "#### Build a ordinal regression model using Random Forest"
   ]
  },
  {
   "cell_type": "code",
   "execution_count": 327,
   "id": "78686bc9",
   "metadata": {},
   "outputs": [],
   "source": [
    "clf_rf = RandomForestClassifier(n_estimators=100)"
   ]
  },
  {
   "cell_type": "code",
   "execution_count": 328,
   "id": "bc6bdc61",
   "metadata": {},
   "outputs": [
    {
     "data": {
      "text/plain": [
       "RandomForestClassifier()"
      ]
     },
     "execution_count": 328,
     "metadata": {},
     "output_type": "execute_result"
    }
   ],
   "source": [
    "clf_rf.fit(X_train, y_train)"
   ]
  },
  {
   "cell_type": "code",
   "execution_count": 329,
   "id": "e5505a72",
   "metadata": {},
   "outputs": [],
   "source": [
    "y_pred = clf_rf.predict(X_test)"
   ]
  },
  {
   "cell_type": "code",
   "execution_count": 330,
   "id": "00971ea9",
   "metadata": {},
   "outputs": [
    {
     "data": {
      "text/plain": [
       "0.9764453961456103"
      ]
     },
     "execution_count": 330,
     "metadata": {},
     "output_type": "execute_result"
    }
   ],
   "source": [
    "accuracy_score(y_test, y_pred)"
   ]
  },
  {
   "cell_type": "markdown",
   "id": "0b4ff132",
   "metadata": {},
   "source": [
    "From the results above, we can see that random forrest performs better with accuracy reaching at over 97%. Therefore, random forest can be used to construct an ordinal regression model to predict the number of employees."
   ]
  },
  {
   "cell_type": "code",
   "execution_count": null,
   "id": "3a91d91b",
   "metadata": {},
   "outputs": [],
   "source": []
  }
 ],
 "metadata": {
  "kernelspec": {
   "display_name": "Python 3 (ipykernel)",
   "language": "python",
   "name": "python3"
  },
  "language_info": {
   "codemirror_mode": {
    "name": "ipython",
    "version": 3
   },
   "file_extension": ".py",
   "mimetype": "text/x-python",
   "name": "python",
   "nbconvert_exporter": "python",
   "pygments_lexer": "ipython3",
   "version": "3.9.4"
  }
 },
 "nbformat": 4,
 "nbformat_minor": 5
}
